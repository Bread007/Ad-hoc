{
 "cells": [
  {
   "cell_type": "code",
   "execution_count": 1,
   "metadata": {
    "collapsed": false
   },
   "outputs": [
    {
     "name": "stdout",
     "output_type": "stream",
     "text": [
      "2019-09-26 18:31:25.006000\n"
     ]
    }
   ],
   "source": [
    "import pandas as pd\n",
    "import numpy as np\n",
    "import os\n",
    "os.chdir(r'C:\\Users\\t0d00dh\\01_Projects\\Ops_WordCloud')\n",
    "import re\n",
    "\n",
    "from wordcloud import WordCloud, STOPWORDS \n",
    "import matplotlib.pyplot as plt \n",
    "\n",
    "import datetime\n",
    "print datetime.datetime.utcnow()\n",
    "raw = pd.read_csv('OE_Consolidated.csv')"
   ]
  },
  {
   "cell_type": "code",
   "execution_count": 65,
   "metadata": {
    "collapsed": true
   },
   "outputs": [],
   "source": [
    "import sys\n",
    "reload(sys)\n",
    "sys.setdefaultencoding('utf8')"
   ]
  },
  {
   "cell_type": "code",
   "execution_count": 2,
   "metadata": {
    "collapsed": true
   },
   "outputs": [],
   "source": [
    "from nltk.stem import PorterStemmer\n",
    "from nltk.tokenize import sent_tokenize, word_tokenize\n",
    "ps = PorterStemmer()"
   ]
  },
  {
   "cell_type": "code",
   "execution_count": 5,
   "metadata": {
    "collapsed": false
   },
   "outputs": [],
   "source": [
    "question_list = np.unique(raw['Question'])"
   ]
  },
  {
   "cell_type": "code",
   "execution_count": 17,
   "metadata": {
    "collapsed": true
   },
   "outputs": [],
   "source": [
    "new_text = raw.iloc[12,2]\n",
    "words = word_tokenize(new_text)\n"
   ]
  },
  {
   "cell_type": "code",
   "execution_count": 52,
   "metadata": {
    "collapsed": false
   },
   "outputs": [],
   "source": [
    "debug = list(raw[raw['Question'] == 'ItemLocation_OYI_NoFloorLocation']['Concat_Response'])"
   ]
  },
  {
   "cell_type": "code",
   "execution_count": 64,
   "metadata": {
    "collapsed": false
   },
   "outputs": [],
   "source": [
    "for i in debug:\n",
    "    response = response.join([' ',i])\n",
    "   \n",
    "    words = [ps.stem(word.lower()) for word in words if word.isalpha()]\n",
    "    word_fre = {x:words.count(x) for x in words}"
   ]
  },
  {
   "cell_type": "code",
   "execution_count": 96,
   "metadata": {
    "collapsed": false
   },
   "outputs": [
    {
     "data": {
      "text/plain": [
       "\"        try: \\n            words = word_tokenize(response)\\n            words = [ps.stem(word.lower()) for word in words if word.isalpha() if word not in stopwords]\\n            word_fre = {x:words.count(x) for x in words}\\n        except UnicodeDecodeError: \\n            words = response.replace('.',' ').split(' ')\\n            words = [ps.stem(word.lower()) for word in words if word.isalpha() if word not in stopwords]\\n            word_fre = {x:words.count(x) for x in words}\\n        \\n    survey[j] = word_fre \""
      ]
     },
     "execution_count": 96,
     "metadata": {},
     "output_type": "execute_result"
    }
   ],
   "source": [
    "survey = {}\n",
    "stopwords = set(STOPWORDS) \n",
    "for j in question_list:\n",
    "    response = ''\n",
    "    for i in list(raw[raw['Question'] == j]['Concat_Response']):\n",
    "        \n",
    "        response = response+' ' + i\n",
    "    \n",
    "    File_name = j + '.png'\n",
    "        \n",
    "    wordcloud = WordCloud(max_font_size=50, max_words=100, background_color=\"white\").generate(response)\n",
    "    #plt.figure()\n",
    "    #plt.imshow(wordcloud, interpolation=\"bilinear\")\n",
    "    #plt.axis(\"off\")\n",
    "    #plt.show()\n",
    "    wordcloud.to_file(File_name)\n",
    "        \n",
    "        \n",
    "        \n",
    "        \n",
    "'''        try: \n",
    "            words = word_tokenize(response)\n",
    "            words = [ps.stem(word.lower()) for word in words if word.isalpha() if word not in stopwords]\n",
    "            word_fre = {x:words.count(x) for x in words}\n",
    "        except UnicodeDecodeError: \n",
    "            words = response.replace('.',' ').split(' ')\n",
    "            words = [ps.stem(word.lower()) for word in words if word.isalpha() if word not in stopwords]\n",
    "            word_fre = {x:words.count(x) for x in words}\n",
    "        \n",
    "    survey[j] = word_fre '''       \n",
    "\n",
    "\n",
    "    \n"
   ]
  }
 ],
 "metadata": {
  "kernelspec": {
   "display_name": "Python [Anaconda2]",
   "language": "python",
   "name": "Python [Anaconda2]"
  },
  "language_info": {
   "codemirror_mode": {
    "name": "ipython",
    "version": 2
   },
   "file_extension": ".py",
   "mimetype": "text/x-python",
   "name": "python",
   "nbconvert_exporter": "python",
   "pygments_lexer": "ipython2",
   "version": "2.7.12"
  }
 },
 "nbformat": 4,
 "nbformat_minor": 2
}
